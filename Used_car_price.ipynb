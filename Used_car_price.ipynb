{
 "cells": [
  {
   "cell_type": "markdown",
   "metadata": {},
   "source": [
    "> # *Used Car Price Prediction*"
   ]
  },
  {
   "cell_type": "markdown",
   "metadata": {},
   "source": [
    "## Import Modules required"
   ]
  },
  {
   "cell_type": "code",
   "execution_count": 31,
   "metadata": {},
   "outputs": [],
   "source": [
    "# import libraries\n",
    "\n",
    "import pandas as pd\n",
    "import matplotlib.pyplot as plt\n",
    "import seaborn as sns"
   ]
  },
  {
   "attachments": {},
   "cell_type": "markdown",
   "metadata": {},
   "source": [
    "## Data Overview"
   ]
  },
  {
   "cell_type": "code",
   "execution_count": 2,
   "metadata": {},
   "outputs": [
    {
     "data": {
      "text/html": [
       "<div>\n",
       "<style scoped>\n",
       "    .dataframe tbody tr th:only-of-type {\n",
       "        vertical-align: middle;\n",
       "    }\n",
       "\n",
       "    .dataframe tbody tr th {\n",
       "        vertical-align: top;\n",
       "    }\n",
       "\n",
       "    .dataframe thead th {\n",
       "        text-align: right;\n",
       "    }\n",
       "</style>\n",
       "<table border=\"1\" class=\"dataframe\">\n",
       "  <thead>\n",
       "    <tr style=\"text-align: right;\">\n",
       "      <th></th>\n",
       "      <th>Unnamed: 0</th>\n",
       "      <th>Name</th>\n",
       "      <th>Location</th>\n",
       "      <th>Year</th>\n",
       "      <th>Kilometers_Driven</th>\n",
       "      <th>Fuel_Type</th>\n",
       "      <th>Transmission</th>\n",
       "      <th>Owner_Type</th>\n",
       "      <th>Mileage</th>\n",
       "      <th>Engine</th>\n",
       "      <th>Power</th>\n",
       "      <th>Seats</th>\n",
       "      <th>New_Price</th>\n",
       "      <th>Price</th>\n",
       "    </tr>\n",
       "  </thead>\n",
       "  <tbody>\n",
       "    <tr>\n",
       "      <th>0</th>\n",
       "      <td>0</td>\n",
       "      <td>Maruti Wagon R LXI CNG</td>\n",
       "      <td>Mumbai</td>\n",
       "      <td>2010</td>\n",
       "      <td>72000</td>\n",
       "      <td>CNG</td>\n",
       "      <td>Manual</td>\n",
       "      <td>First</td>\n",
       "      <td>26.6 km/kg</td>\n",
       "      <td>998 CC</td>\n",
       "      <td>58.16 bhp</td>\n",
       "      <td>5.0</td>\n",
       "      <td>NaN</td>\n",
       "      <td>1.75</td>\n",
       "    </tr>\n",
       "    <tr>\n",
       "      <th>1</th>\n",
       "      <td>1</td>\n",
       "      <td>Hyundai Creta 1.6 CRDi SX Option</td>\n",
       "      <td>Pune</td>\n",
       "      <td>2015</td>\n",
       "      <td>41000</td>\n",
       "      <td>Diesel</td>\n",
       "      <td>Manual</td>\n",
       "      <td>First</td>\n",
       "      <td>19.67 kmpl</td>\n",
       "      <td>1582 CC</td>\n",
       "      <td>126.2 bhp</td>\n",
       "      <td>5.0</td>\n",
       "      <td>NaN</td>\n",
       "      <td>12.50</td>\n",
       "    </tr>\n",
       "    <tr>\n",
       "      <th>2</th>\n",
       "      <td>2</td>\n",
       "      <td>Honda Jazz V</td>\n",
       "      <td>Chennai</td>\n",
       "      <td>2011</td>\n",
       "      <td>46000</td>\n",
       "      <td>Petrol</td>\n",
       "      <td>Manual</td>\n",
       "      <td>First</td>\n",
       "      <td>18.2 kmpl</td>\n",
       "      <td>1199 CC</td>\n",
       "      <td>88.7 bhp</td>\n",
       "      <td>5.0</td>\n",
       "      <td>8.61 Lakh</td>\n",
       "      <td>4.50</td>\n",
       "    </tr>\n",
       "    <tr>\n",
       "      <th>3</th>\n",
       "      <td>3</td>\n",
       "      <td>Maruti Ertiga VDI</td>\n",
       "      <td>Chennai</td>\n",
       "      <td>2012</td>\n",
       "      <td>87000</td>\n",
       "      <td>Diesel</td>\n",
       "      <td>Manual</td>\n",
       "      <td>First</td>\n",
       "      <td>20.77 kmpl</td>\n",
       "      <td>1248 CC</td>\n",
       "      <td>88.76 bhp</td>\n",
       "      <td>7.0</td>\n",
       "      <td>NaN</td>\n",
       "      <td>6.00</td>\n",
       "    </tr>\n",
       "    <tr>\n",
       "      <th>4</th>\n",
       "      <td>4</td>\n",
       "      <td>Audi A4 New 2.0 TDI Multitronic</td>\n",
       "      <td>Coimbatore</td>\n",
       "      <td>2013</td>\n",
       "      <td>40670</td>\n",
       "      <td>Diesel</td>\n",
       "      <td>Automatic</td>\n",
       "      <td>Second</td>\n",
       "      <td>15.2 kmpl</td>\n",
       "      <td>1968 CC</td>\n",
       "      <td>140.8 bhp</td>\n",
       "      <td>5.0</td>\n",
       "      <td>NaN</td>\n",
       "      <td>17.74</td>\n",
       "    </tr>\n",
       "  </tbody>\n",
       "</table>\n",
       "</div>"
      ],
      "text/plain": [
       "   Unnamed: 0                              Name    Location  Year  \\\n",
       "0           0            Maruti Wagon R LXI CNG      Mumbai  2010   \n",
       "1           1  Hyundai Creta 1.6 CRDi SX Option        Pune  2015   \n",
       "2           2                      Honda Jazz V     Chennai  2011   \n",
       "3           3                 Maruti Ertiga VDI     Chennai  2012   \n",
       "4           4   Audi A4 New 2.0 TDI Multitronic  Coimbatore  2013   \n",
       "\n",
       "   Kilometers_Driven Fuel_Type Transmission Owner_Type     Mileage   Engine  \\\n",
       "0              72000       CNG       Manual      First  26.6 km/kg   998 CC   \n",
       "1              41000    Diesel       Manual      First  19.67 kmpl  1582 CC   \n",
       "2              46000    Petrol       Manual      First   18.2 kmpl  1199 CC   \n",
       "3              87000    Diesel       Manual      First  20.77 kmpl  1248 CC   \n",
       "4              40670    Diesel    Automatic     Second   15.2 kmpl  1968 CC   \n",
       "\n",
       "       Power  Seats  New_Price  Price  \n",
       "0  58.16 bhp    5.0        NaN   1.75  \n",
       "1  126.2 bhp    5.0        NaN  12.50  \n",
       "2   88.7 bhp    5.0  8.61 Lakh   4.50  \n",
       "3  88.76 bhp    7.0        NaN   6.00  \n",
       "4  140.8 bhp    5.0        NaN  17.74  "
      ]
     },
     "execution_count": 2,
     "metadata": {},
     "output_type": "execute_result"
    }
   ],
   "source": [
    "# load dataset and take overview\n",
    "\n",
    "dataset = pd.read_csv(\"dataset.csv\")\n",
    "dataset.head()"
   ]
  },
  {
   "cell_type": "code",
   "execution_count": 3,
   "metadata": {},
   "outputs": [
    {
     "name": "stdout",
     "output_type": "stream",
     "text": [
      "<class 'pandas.core.frame.DataFrame'>\n",
      "RangeIndex: 6019 entries, 0 to 6018\n",
      "Data columns (total 14 columns):\n",
      " #   Column             Non-Null Count  Dtype  \n",
      "---  ------             --------------  -----  \n",
      " 0   Unnamed: 0         6019 non-null   int64  \n",
      " 1   Name               6019 non-null   object \n",
      " 2   Location           6019 non-null   object \n",
      " 3   Year               6019 non-null   int64  \n",
      " 4   Kilometers_Driven  6019 non-null   int64  \n",
      " 5   Fuel_Type          6019 non-null   object \n",
      " 6   Transmission       6019 non-null   object \n",
      " 7   Owner_Type         6019 non-null   object \n",
      " 8   Mileage            6017 non-null   object \n",
      " 9   Engine             5983 non-null   object \n",
      " 10  Power              5983 non-null   object \n",
      " 11  Seats              5977 non-null   float64\n",
      " 12  New_Price          824 non-null    object \n",
      " 13  Price              6019 non-null   float64\n",
      "dtypes: float64(2), int64(3), object(9)\n",
      "memory usage: 658.5+ KB\n"
     ]
    }
   ],
   "source": [
    "# View basic information related to dataset \n",
    "\n",
    "dataset.info()"
   ]
  },
  {
   "attachments": {},
   "cell_type": "markdown",
   "metadata": {},
   "source": [
    "## Data Cleaning"
   ]
  },
  {
   "cell_type": "code",
   "execution_count": 4,
   "metadata": {},
   "outputs": [],
   "source": [
    "# Remove columns that are not usefull\n",
    "\n",
    "dataset.drop(columns=['Unnamed: 0','New_Price','Name','Location'],inplace=True)"
   ]
  },
  {
   "cell_type": "code",
   "execution_count": 5,
   "metadata": {},
   "outputs": [
    {
     "data": {
      "text/plain": [
       "2940    True\n",
       "4781    True\n",
       "dtype: bool"
      ]
     },
     "execution_count": 5,
     "metadata": {},
     "output_type": "execute_result"
    }
   ],
   "source": [
    "# find duplicate rows \n",
    "\n",
    "series = dataset.duplicated()\n",
    "series[series == True]"
   ]
  },
  {
   "cell_type": "code",
   "execution_count": 6,
   "metadata": {},
   "outputs": [
    {
     "data": {
      "text/html": [
       "<div>\n",
       "<style scoped>\n",
       "    .dataframe tbody tr th:only-of-type {\n",
       "        vertical-align: middle;\n",
       "    }\n",
       "\n",
       "    .dataframe tbody tr th {\n",
       "        vertical-align: top;\n",
       "    }\n",
       "\n",
       "    .dataframe thead th {\n",
       "        text-align: right;\n",
       "    }\n",
       "</style>\n",
       "<table border=\"1\" class=\"dataframe\">\n",
       "  <thead>\n",
       "    <tr style=\"text-align: right;\">\n",
       "      <th></th>\n",
       "      <th>Year</th>\n",
       "      <th>Kilometers_Driven</th>\n",
       "      <th>Fuel_Type</th>\n",
       "      <th>Transmission</th>\n",
       "      <th>Owner_Type</th>\n",
       "      <th>Mileage</th>\n",
       "      <th>Engine</th>\n",
       "      <th>Power</th>\n",
       "      <th>Seats</th>\n",
       "      <th>Price</th>\n",
       "    </tr>\n",
       "  </thead>\n",
       "  <tbody>\n",
       "    <tr>\n",
       "      <th>2940</th>\n",
       "      <td>2016</td>\n",
       "      <td>29000</td>\n",
       "      <td>Diesel</td>\n",
       "      <td>Manual</td>\n",
       "      <td>First</td>\n",
       "      <td>27.39 kmpl</td>\n",
       "      <td>1248 CC</td>\n",
       "      <td>74 bhp</td>\n",
       "      <td>5.0</td>\n",
       "      <td>6.50</td>\n",
       "    </tr>\n",
       "    <tr>\n",
       "      <th>4781</th>\n",
       "      <td>2007</td>\n",
       "      <td>52195</td>\n",
       "      <td>Petrol</td>\n",
       "      <td>Manual</td>\n",
       "      <td>First</td>\n",
       "      <td>19.7 kmpl</td>\n",
       "      <td>796 CC</td>\n",
       "      <td>46.3 bhp</td>\n",
       "      <td>5.0</td>\n",
       "      <td>1.75</td>\n",
       "    </tr>\n",
       "  </tbody>\n",
       "</table>\n",
       "</div>"
      ],
      "text/plain": [
       "      Year  Kilometers_Driven Fuel_Type Transmission Owner_Type     Mileage  \\\n",
       "2940  2016              29000    Diesel       Manual      First  27.39 kmpl   \n",
       "4781  2007              52195    Petrol       Manual      First   19.7 kmpl   \n",
       "\n",
       "       Engine     Power  Seats  Price  \n",
       "2940  1248 CC    74 bhp    5.0   6.50  \n",
       "4781   796 CC  46.3 bhp    5.0   1.75  "
      ]
     },
     "execution_count": 6,
     "metadata": {},
     "output_type": "execute_result"
    }
   ],
   "source": [
    "# View duplicate rows \n",
    "\n",
    "dataset.loc[[2940,4781]]"
   ]
  },
  {
   "cell_type": "code",
   "execution_count": 7,
   "metadata": {},
   "outputs": [],
   "source": [
    "# Remove duplicate rows\n",
    "\n",
    "dataset.drop([2940,4781],axis=0,inplace=True)"
   ]
  },
  {
   "cell_type": "code",
   "execution_count": 8,
   "metadata": {},
   "outputs": [
    {
     "data": {
      "text/plain": [
       "0"
      ]
     },
     "execution_count": 8,
     "metadata": {},
     "output_type": "execute_result"
    }
   ],
   "source": [
    "# count of duplicate rows to cross check that all duplicates has been removed\n",
    "\n",
    "dataset.duplicated().sum()"
   ]
  },
  {
   "cell_type": "code",
   "execution_count": 9,
   "metadata": {},
   "outputs": [
    {
     "name": "stdout",
     "output_type": "stream",
     "text": [
      "Year => 0\n",
      "Kilometers_Driven => 0\n",
      "Fuel_Type => 0\n",
      "Transmission => 0\n",
      "Owner_Type => 0\n",
      "Mileage => 2\n",
      "Engine => 36\n",
      "Power => 36\n",
      "Seats => 42\n",
      "Price => 0\n"
     ]
    }
   ],
   "source": [
    "# count of null values in every column\n",
    "\n",
    "col = dataset.columns\n",
    "col = list(col)\n",
    "for j in col:\n",
    "    print(f\"{j} => {dataset[j].isnull().sum()}\")"
   ]
  },
  {
   "cell_type": "code",
   "execution_count": 10,
   "metadata": {},
   "outputs": [
    {
     "name": "stdout",
     "output_type": "stream",
     "text": [
      "Year => 0\n",
      "Kilometers_Driven => 0\n",
      "Fuel_Type => 0\n",
      "Transmission => 0\n",
      "Owner_Type => 0\n",
      "Mileage => 0\n",
      "Engine => 0\n",
      "Power => 0\n",
      "Seats => 0\n",
      "Price => 0\n"
     ]
    }
   ],
   "source": [
    "# Drop all rows where any value is null, As number of rows are not much so we can drop them\n",
    "\n",
    "dataset.dropna(inplace=True)\n",
    "for j in col:\n",
    "    print(f\"{j} => {dataset[j].isnull().sum()}\")"
   ]
  },
  {
   "cell_type": "code",
   "execution_count": 11,
   "metadata": {},
   "outputs": [],
   "source": [
    "# drop rows where power is 'null bhp'\n",
    "\n",
    "dataset = dataset.drop( dataset[dataset[\"Power\"]=='null bhp'].index )"
   ]
  },
  {
   "cell_type": "code",
   "execution_count": 12,
   "metadata": {},
   "outputs": [
    {
     "data": {
      "text/html": [
       "<div>\n",
       "<style scoped>\n",
       "    .dataframe tbody tr th:only-of-type {\n",
       "        vertical-align: middle;\n",
       "    }\n",
       "\n",
       "    .dataframe tbody tr th {\n",
       "        vertical-align: top;\n",
       "    }\n",
       "\n",
       "    .dataframe thead th {\n",
       "        text-align: right;\n",
       "    }\n",
       "</style>\n",
       "<table border=\"1\" class=\"dataframe\">\n",
       "  <thead>\n",
       "    <tr style=\"text-align: right;\">\n",
       "      <th></th>\n",
       "      <th>Year</th>\n",
       "      <th>Kilometers_Driven</th>\n",
       "      <th>Fuel_Type</th>\n",
       "      <th>Transmission</th>\n",
       "      <th>Owner_Type</th>\n",
       "      <th>Mileage</th>\n",
       "      <th>Engine</th>\n",
       "      <th>Power</th>\n",
       "      <th>Seats</th>\n",
       "      <th>Price</th>\n",
       "    </tr>\n",
       "  </thead>\n",
       "  <tbody>\n",
       "    <tr>\n",
       "      <th>1874</th>\n",
       "      <td>2016</td>\n",
       "      <td>66000</td>\n",
       "      <td>Diesel</td>\n",
       "      <td>Manual</td>\n",
       "      <td>First</td>\n",
       "      <td>28.09</td>\n",
       "      <td>1248.0</td>\n",
       "      <td>88.5</td>\n",
       "      <td>5.0</td>\n",
       "      <td>6.4</td>\n",
       "    </tr>\n",
       "  </tbody>\n",
       "</table>\n",
       "</div>"
      ],
      "text/plain": [
       "      Year  Kilometers_Driven Fuel_Type Transmission Owner_Type  Mileage  \\\n",
       "1874  2016              66000    Diesel       Manual      First    28.09   \n",
       "\n",
       "      Engine  Power  Seats  Price  \n",
       "1874  1248.0   88.5    5.0    6.4  "
      ]
     },
     "execution_count": 12,
     "metadata": {},
     "output_type": "execute_result"
    }
   ],
   "source": [
    "# Format data of columns (engine,mileage,power), seperate values from unit\n",
    "\n",
    "dataset[\"Engine\"] = dataset[\"Engine\"].apply(lambda x : float(str(x).split(\" \")[0]))\n",
    "dataset[\"Mileage\"] = dataset[\"Mileage\"].apply(lambda x : float(str(x).split(\" \")[0]))\n",
    "dataset[\"Power\"] = dataset[\"Power\"].apply(lambda x : float(str(x).split(\" \")[0]))\n",
    "dataset.sample()"
   ]
  },
  {
   "cell_type": "code",
   "execution_count": 13,
   "metadata": {},
   "outputs": [
    {
     "data": {
      "text/plain": [
       "Fuel_Type\n",
       "Diesel    3151\n",
       "Petrol    2654\n",
       "CNG         55\n",
       "LPG         10\n",
       "Name: count, dtype: int64"
      ]
     },
     "execution_count": 13,
     "metadata": {},
     "output_type": "execute_result"
    }
   ],
   "source": [
    "# find count of datapoints by fuel type \n",
    "\n",
    "dataset[\"Fuel_Type\"].value_counts()"
   ]
  },
  {
   "cell_type": "code",
   "execution_count": 14,
   "metadata": {},
   "outputs": [
    {
     "data": {
      "text/plain": [
       "Fuel_Type\n",
       "1    3151\n",
       "2    2654\n",
       "3      55\n",
       "4      10\n",
       "Name: count, dtype: int64"
      ]
     },
     "execution_count": 14,
     "metadata": {},
     "output_type": "execute_result"
    }
   ],
   "source": [
    "# Transform fuel type from string to integer\n",
    "\n",
    "fuel = {\n",
    "    \"Diesel\" : 1,\n",
    "    \"Petrol\" : 2,\n",
    "    \"CNG\" : 3,\n",
    "    \"LPG\" : 4\n",
    "}\n",
    "dataset[\"Fuel_Type\"] = dataset[\"Fuel_Type\"].apply(lambda x : fuel[x])\n",
    "dataset[\"Fuel_Type\"].value_counts()"
   ]
  },
  {
   "cell_type": "code",
   "execution_count": 15,
   "metadata": {},
   "outputs": [
    {
     "data": {
      "text/plain": [
       "Transmission\n",
       "Manual       4168\n",
       "Automatic    1702\n",
       "Name: count, dtype: int64"
      ]
     },
     "execution_count": 15,
     "metadata": {},
     "output_type": "execute_result"
    }
   ],
   "source": [
    "# find count of datapoints by Transmission mode \n",
    "\n",
    "dataset[\"Transmission\"].value_counts()"
   ]
  },
  {
   "cell_type": "code",
   "execution_count": 16,
   "metadata": {},
   "outputs": [
    {
     "data": {
      "text/plain": [
       "Transmission\n",
       "1    4168\n",
       "2    1702\n",
       "Name: count, dtype: int64"
      ]
     },
     "execution_count": 16,
     "metadata": {},
     "output_type": "execute_result"
    }
   ],
   "source": [
    "# Transform transmission mode from string to integer\n",
    "\n",
    "trans = {\n",
    "    \"Manual\" : 1,\n",
    "    \"Automatic\" : 2\n",
    "}\n",
    "dataset[\"Transmission\"] = dataset[\"Transmission\"].apply(lambda x : trans[x])\n",
    "dataset[\"Transmission\"].value_counts()"
   ]
  },
  {
   "cell_type": "code",
   "execution_count": 17,
   "metadata": {},
   "outputs": [
    {
     "data": {
      "text/plain": [
       "Owner_Type\n",
       "First             4837\n",
       "Second             925\n",
       "Third              101\n",
       "Fourth & Above       7\n",
       "Name: count, dtype: int64"
      ]
     },
     "execution_count": 17,
     "metadata": {},
     "output_type": "execute_result"
    }
   ],
   "source": [
    "# find count of datapoints by owner type \n",
    "\n",
    "dataset[\"Owner_Type\"].value_counts()"
   ]
  },
  {
   "cell_type": "code",
   "execution_count": 18,
   "metadata": {},
   "outputs": [
    {
     "data": {
      "text/plain": [
       "Owner_Type\n",
       "1    4837\n",
       "2     925\n",
       "3     101\n",
       "4       7\n",
       "Name: count, dtype: int64"
      ]
     },
     "execution_count": 18,
     "metadata": {},
     "output_type": "execute_result"
    }
   ],
   "source": [
    "# Transform owner type from string to integer\n",
    "\n",
    "owner = {\n",
    "    \"First\" : 1,\n",
    "    \"Second\" : 2,\n",
    "    \"Third\" : 3,\n",
    "    \"Fourth & Above\" : 4\n",
    "}\n",
    "dataset[\"Owner_Type\"] = dataset[\"Owner_Type\"].apply(lambda x : owner[x])\n",
    "dataset[\"Owner_Type\"].value_counts()"
   ]
  },
  {
   "cell_type": "markdown",
   "metadata": {},
   "source": [
    "## Data Analysis and Visualization"
   ]
  },
  {
   "cell_type": "code",
   "execution_count": 19,
   "metadata": {},
   "outputs": [
    {
     "data": {
      "text/html": [
       "<div>\n",
       "<style scoped>\n",
       "    .dataframe tbody tr th:only-of-type {\n",
       "        vertical-align: middle;\n",
       "    }\n",
       "\n",
       "    .dataframe tbody tr th {\n",
       "        vertical-align: top;\n",
       "    }\n",
       "\n",
       "    .dataframe thead th {\n",
       "        text-align: right;\n",
       "    }\n",
       "</style>\n",
       "<table border=\"1\" class=\"dataframe\">\n",
       "  <thead>\n",
       "    <tr style=\"text-align: right;\">\n",
       "      <th></th>\n",
       "      <th>Year</th>\n",
       "      <th>Kilometers_Driven</th>\n",
       "      <th>Fuel_Type</th>\n",
       "      <th>Transmission</th>\n",
       "      <th>Owner_Type</th>\n",
       "      <th>Mileage</th>\n",
       "      <th>Engine</th>\n",
       "      <th>Power</th>\n",
       "      <th>Seats</th>\n",
       "      <th>Price</th>\n",
       "    </tr>\n",
       "  </thead>\n",
       "  <tbody>\n",
       "    <tr>\n",
       "      <th>0</th>\n",
       "      <td>2010</td>\n",
       "      <td>72000</td>\n",
       "      <td>3</td>\n",
       "      <td>1</td>\n",
       "      <td>1</td>\n",
       "      <td>26.60</td>\n",
       "      <td>998.0</td>\n",
       "      <td>58.16</td>\n",
       "      <td>5.0</td>\n",
       "      <td>1.75</td>\n",
       "    </tr>\n",
       "    <tr>\n",
       "      <th>1</th>\n",
       "      <td>2015</td>\n",
       "      <td>41000</td>\n",
       "      <td>1</td>\n",
       "      <td>1</td>\n",
       "      <td>1</td>\n",
       "      <td>19.67</td>\n",
       "      <td>1582.0</td>\n",
       "      <td>126.20</td>\n",
       "      <td>5.0</td>\n",
       "      <td>12.50</td>\n",
       "    </tr>\n",
       "    <tr>\n",
       "      <th>2</th>\n",
       "      <td>2011</td>\n",
       "      <td>46000</td>\n",
       "      <td>2</td>\n",
       "      <td>1</td>\n",
       "      <td>1</td>\n",
       "      <td>18.20</td>\n",
       "      <td>1199.0</td>\n",
       "      <td>88.70</td>\n",
       "      <td>5.0</td>\n",
       "      <td>4.50</td>\n",
       "    </tr>\n",
       "    <tr>\n",
       "      <th>3</th>\n",
       "      <td>2012</td>\n",
       "      <td>87000</td>\n",
       "      <td>1</td>\n",
       "      <td>1</td>\n",
       "      <td>1</td>\n",
       "      <td>20.77</td>\n",
       "      <td>1248.0</td>\n",
       "      <td>88.76</td>\n",
       "      <td>7.0</td>\n",
       "      <td>6.00</td>\n",
       "    </tr>\n",
       "    <tr>\n",
       "      <th>4</th>\n",
       "      <td>2013</td>\n",
       "      <td>40670</td>\n",
       "      <td>1</td>\n",
       "      <td>2</td>\n",
       "      <td>2</td>\n",
       "      <td>15.20</td>\n",
       "      <td>1968.0</td>\n",
       "      <td>140.80</td>\n",
       "      <td>5.0</td>\n",
       "      <td>17.74</td>\n",
       "    </tr>\n",
       "  </tbody>\n",
       "</table>\n",
       "</div>"
      ],
      "text/plain": [
       "   Year  Kilometers_Driven  Fuel_Type  Transmission  Owner_Type  Mileage  \\\n",
       "0  2010              72000          3             1           1    26.60   \n",
       "1  2015              41000          1             1           1    19.67   \n",
       "2  2011              46000          2             1           1    18.20   \n",
       "3  2012              87000          1             1           1    20.77   \n",
       "4  2013              40670          1             2           2    15.20   \n",
       "\n",
       "   Engine   Power  Seats  Price  \n",
       "0   998.0   58.16    5.0   1.75  \n",
       "1  1582.0  126.20    5.0  12.50  \n",
       "2  1199.0   88.70    5.0   4.50  \n",
       "3  1248.0   88.76    7.0   6.00  \n",
       "4  1968.0  140.80    5.0  17.74  "
      ]
     },
     "execution_count": 19,
     "metadata": {},
     "output_type": "execute_result"
    }
   ],
   "source": [
    "dataset.head()"
   ]
  },
  {
   "cell_type": "code",
   "execution_count": 20,
   "metadata": {},
   "outputs": [
    {
     "data": {
      "text/html": [
       "<div>\n",
       "<style scoped>\n",
       "    .dataframe tbody tr th:only-of-type {\n",
       "        vertical-align: middle;\n",
       "    }\n",
       "\n",
       "    .dataframe tbody tr th {\n",
       "        vertical-align: top;\n",
       "    }\n",
       "\n",
       "    .dataframe thead th {\n",
       "        text-align: right;\n",
       "    }\n",
       "</style>\n",
       "<table border=\"1\" class=\"dataframe\">\n",
       "  <thead>\n",
       "    <tr style=\"text-align: right;\">\n",
       "      <th></th>\n",
       "      <th>Year</th>\n",
       "      <th>Kilometers_Driven</th>\n",
       "      <th>Fuel_Type</th>\n",
       "      <th>Transmission</th>\n",
       "      <th>Owner_Type</th>\n",
       "      <th>Mileage</th>\n",
       "      <th>Engine</th>\n",
       "      <th>Power</th>\n",
       "      <th>Seats</th>\n",
       "      <th>Price</th>\n",
       "    </tr>\n",
       "  </thead>\n",
       "  <tbody>\n",
       "    <tr>\n",
       "      <th>count</th>\n",
       "      <td>5870.000000</td>\n",
       "      <td>5.870000e+03</td>\n",
       "      <td>5870.000000</td>\n",
       "      <td>5870.000000</td>\n",
       "      <td>5870.000000</td>\n",
       "      <td>5870.000000</td>\n",
       "      <td>5870.000000</td>\n",
       "      <td>5870.000000</td>\n",
       "      <td>5870.000000</td>\n",
       "      <td>5870.000000</td>\n",
       "    </tr>\n",
       "    <tr>\n",
       "      <th>mean</th>\n",
       "      <td>2013.478365</td>\n",
       "      <td>5.832304e+04</td>\n",
       "      <td>1.475980</td>\n",
       "      <td>1.289949</td>\n",
       "      <td>1.195571</td>\n",
       "      <td>18.276044</td>\n",
       "      <td>1625.951278</td>\n",
       "      <td>113.294995</td>\n",
       "      <td>5.283816</td>\n",
       "      <td>9.605785</td>\n",
       "    </tr>\n",
       "    <tr>\n",
       "      <th>std</th>\n",
       "      <td>3.163806</td>\n",
       "      <td>9.218428e+04</td>\n",
       "      <td>0.527666</td>\n",
       "      <td>0.453777</td>\n",
       "      <td>0.446009</td>\n",
       "      <td>4.364740</td>\n",
       "      <td>601.626564</td>\n",
       "      <td>53.881538</td>\n",
       "      <td>0.805201</td>\n",
       "      <td>11.250830</td>\n",
       "    </tr>\n",
       "    <tr>\n",
       "      <th>min</th>\n",
       "      <td>1998.000000</td>\n",
       "      <td>1.710000e+02</td>\n",
       "      <td>1.000000</td>\n",
       "      <td>1.000000</td>\n",
       "      <td>1.000000</td>\n",
       "      <td>0.000000</td>\n",
       "      <td>624.000000</td>\n",
       "      <td>34.200000</td>\n",
       "      <td>2.000000</td>\n",
       "      <td>0.440000</td>\n",
       "    </tr>\n",
       "    <tr>\n",
       "      <th>25%</th>\n",
       "      <td>2012.000000</td>\n",
       "      <td>3.343125e+04</td>\n",
       "      <td>1.000000</td>\n",
       "      <td>1.000000</td>\n",
       "      <td>1.000000</td>\n",
       "      <td>15.260000</td>\n",
       "      <td>1198.000000</td>\n",
       "      <td>75.000000</td>\n",
       "      <td>5.000000</td>\n",
       "      <td>3.520000</td>\n",
       "    </tr>\n",
       "    <tr>\n",
       "      <th>50%</th>\n",
       "      <td>2014.000000</td>\n",
       "      <td>5.262150e+04</td>\n",
       "      <td>1.000000</td>\n",
       "      <td>1.000000</td>\n",
       "      <td>1.000000</td>\n",
       "      <td>18.200000</td>\n",
       "      <td>1496.000000</td>\n",
       "      <td>97.700000</td>\n",
       "      <td>5.000000</td>\n",
       "      <td>5.750000</td>\n",
       "    </tr>\n",
       "    <tr>\n",
       "      <th>75%</th>\n",
       "      <td>2016.000000</td>\n",
       "      <td>7.240825e+04</td>\n",
       "      <td>2.000000</td>\n",
       "      <td>2.000000</td>\n",
       "      <td>1.000000</td>\n",
       "      <td>21.100000</td>\n",
       "      <td>1991.000000</td>\n",
       "      <td>138.100000</td>\n",
       "      <td>5.000000</td>\n",
       "      <td>10.000000</td>\n",
       "    </tr>\n",
       "    <tr>\n",
       "      <th>max</th>\n",
       "      <td>2019.000000</td>\n",
       "      <td>6.500000e+06</td>\n",
       "      <td>4.000000</td>\n",
       "      <td>2.000000</td>\n",
       "      <td>4.000000</td>\n",
       "      <td>33.540000</td>\n",
       "      <td>5998.000000</td>\n",
       "      <td>560.000000</td>\n",
       "      <td>10.000000</td>\n",
       "      <td>160.000000</td>\n",
       "    </tr>\n",
       "  </tbody>\n",
       "</table>\n",
       "</div>"
      ],
      "text/plain": [
       "              Year  Kilometers_Driven    Fuel_Type  Transmission   Owner_Type  \\\n",
       "count  5870.000000       5.870000e+03  5870.000000   5870.000000  5870.000000   \n",
       "mean   2013.478365       5.832304e+04     1.475980      1.289949     1.195571   \n",
       "std       3.163806       9.218428e+04     0.527666      0.453777     0.446009   \n",
       "min    1998.000000       1.710000e+02     1.000000      1.000000     1.000000   \n",
       "25%    2012.000000       3.343125e+04     1.000000      1.000000     1.000000   \n",
       "50%    2014.000000       5.262150e+04     1.000000      1.000000     1.000000   \n",
       "75%    2016.000000       7.240825e+04     2.000000      2.000000     1.000000   \n",
       "max    2019.000000       6.500000e+06     4.000000      2.000000     4.000000   \n",
       "\n",
       "           Mileage       Engine        Power        Seats        Price  \n",
       "count  5870.000000  5870.000000  5870.000000  5870.000000  5870.000000  \n",
       "mean     18.276044  1625.951278   113.294995     5.283816     9.605785  \n",
       "std       4.364740   601.626564    53.881538     0.805201    11.250830  \n",
       "min       0.000000   624.000000    34.200000     2.000000     0.440000  \n",
       "25%      15.260000  1198.000000    75.000000     5.000000     3.520000  \n",
       "50%      18.200000  1496.000000    97.700000     5.000000     5.750000  \n",
       "75%      21.100000  1991.000000   138.100000     5.000000    10.000000  \n",
       "max      33.540000  5998.000000   560.000000    10.000000   160.000000  "
      ]
     },
     "execution_count": 20,
     "metadata": {},
     "output_type": "execute_result"
    }
   ],
   "source": [
    "# View basic analysis of columns \n",
    "\n",
    "dataset.describe()"
   ]
  },
  {
   "cell_type": "code",
   "execution_count": 27,
   "metadata": {},
   "outputs": [
    {
     "data": {
      "text/html": [
       "<div>\n",
       "<style scoped>\n",
       "    .dataframe tbody tr th:only-of-type {\n",
       "        vertical-align: middle;\n",
       "    }\n",
       "\n",
       "    .dataframe tbody tr th {\n",
       "        vertical-align: top;\n",
       "    }\n",
       "\n",
       "    .dataframe thead th {\n",
       "        text-align: right;\n",
       "    }\n",
       "</style>\n",
       "<table border=\"1\" class=\"dataframe\">\n",
       "  <thead>\n",
       "    <tr style=\"text-align: right;\">\n",
       "      <th></th>\n",
       "      <th>Year</th>\n",
       "      <th>Kilometers_Driven</th>\n",
       "      <th>Fuel_Type</th>\n",
       "      <th>Transmission</th>\n",
       "      <th>Owner_Type</th>\n",
       "      <th>Mileage</th>\n",
       "      <th>Engine</th>\n",
       "      <th>Power</th>\n",
       "      <th>Seats</th>\n",
       "      <th>Price</th>\n",
       "    </tr>\n",
       "  </thead>\n",
       "  <tbody>\n",
       "    <tr>\n",
       "      <th>Year</th>\n",
       "      <td>1.000000</td>\n",
       "      <td>-0.169420</td>\n",
       "      <td>-0.104875</td>\n",
       "      <td>0.085311</td>\n",
       "      <td>-0.386295</td>\n",
       "      <td>0.285680</td>\n",
       "      <td>-0.068482</td>\n",
       "      <td>0.014205</td>\n",
       "      <td>0.007762</td>\n",
       "      <td>0.299407</td>\n",
       "    </tr>\n",
       "    <tr>\n",
       "      <th>Kilometers_Driven</th>\n",
       "      <td>-0.169420</td>\n",
       "      <td>1.000000</td>\n",
       "      <td>-0.101483</td>\n",
       "      <td>-0.024155</td>\n",
       "      <td>0.080399</td>\n",
       "      <td>-0.060515</td>\n",
       "      <td>0.092999</td>\n",
       "      <td>0.033443</td>\n",
       "      <td>0.083052</td>\n",
       "      <td>-0.008272</td>\n",
       "    </tr>\n",
       "    <tr>\n",
       "      <th>Fuel_Type</th>\n",
       "      <td>-0.104875</td>\n",
       "      <td>-0.101483</td>\n",
       "      <td>1.000000</td>\n",
       "      <td>-0.147384</td>\n",
       "      <td>0.038064</td>\n",
       "      <td>-0.060675</td>\n",
       "      <td>-0.428744</td>\n",
       "      <td>-0.298723</td>\n",
       "      <td>-0.300361</td>\n",
       "      <td>-0.317022</td>\n",
       "    </tr>\n",
       "    <tr>\n",
       "      <th>Transmission</th>\n",
       "      <td>0.085311</td>\n",
       "      <td>-0.024155</td>\n",
       "      <td>-0.147384</td>\n",
       "      <td>1.000000</td>\n",
       "      <td>-0.002409</td>\n",
       "      <td>-0.368301</td>\n",
       "      <td>0.501842</td>\n",
       "      <td>0.644632</td>\n",
       "      <td>-0.074638</td>\n",
       "      <td>0.585586</td>\n",
       "    </tr>\n",
       "    <tr>\n",
       "      <th>Owner_Type</th>\n",
       "      <td>-0.386295</td>\n",
       "      <td>0.080399</td>\n",
       "      <td>0.038064</td>\n",
       "      <td>-0.002409</td>\n",
       "      <td>1.000000</td>\n",
       "      <td>-0.148651</td>\n",
       "      <td>0.058568</td>\n",
       "      <td>0.025860</td>\n",
       "      <td>0.011472</td>\n",
       "      <td>-0.091179</td>\n",
       "    </tr>\n",
       "    <tr>\n",
       "      <th>Mileage</th>\n",
       "      <td>0.285680</td>\n",
       "      <td>-0.060515</td>\n",
       "      <td>-0.060675</td>\n",
       "      <td>-0.368301</td>\n",
       "      <td>-0.148651</td>\n",
       "      <td>1.000000</td>\n",
       "      <td>-0.637325</td>\n",
       "      <td>-0.538816</td>\n",
       "      <td>-0.331564</td>\n",
       "      <td>-0.341661</td>\n",
       "    </tr>\n",
       "    <tr>\n",
       "      <th>Engine</th>\n",
       "      <td>-0.068482</td>\n",
       "      <td>0.092999</td>\n",
       "      <td>-0.428744</td>\n",
       "      <td>0.501842</td>\n",
       "      <td>0.058568</td>\n",
       "      <td>-0.637325</td>\n",
       "      <td>1.000000</td>\n",
       "      <td>0.866253</td>\n",
       "      <td>0.401082</td>\n",
       "      <td>0.658014</td>\n",
       "    </tr>\n",
       "    <tr>\n",
       "      <th>Power</th>\n",
       "      <td>0.014205</td>\n",
       "      <td>0.033443</td>\n",
       "      <td>-0.298723</td>\n",
       "      <td>0.644632</td>\n",
       "      <td>0.025860</td>\n",
       "      <td>-0.538816</td>\n",
       "      <td>0.866253</td>\n",
       "      <td>1.000000</td>\n",
       "      <td>0.101361</td>\n",
       "      <td>0.772835</td>\n",
       "    </tr>\n",
       "    <tr>\n",
       "      <th>Seats</th>\n",
       "      <td>0.007762</td>\n",
       "      <td>0.083052</td>\n",
       "      <td>-0.300361</td>\n",
       "      <td>-0.074638</td>\n",
       "      <td>0.011472</td>\n",
       "      <td>-0.331564</td>\n",
       "      <td>0.401082</td>\n",
       "      <td>0.101361</td>\n",
       "      <td>1.000000</td>\n",
       "      <td>0.055492</td>\n",
       "    </tr>\n",
       "    <tr>\n",
       "      <th>Price</th>\n",
       "      <td>0.299407</td>\n",
       "      <td>-0.008272</td>\n",
       "      <td>-0.317022</td>\n",
       "      <td>0.585586</td>\n",
       "      <td>-0.091179</td>\n",
       "      <td>-0.341661</td>\n",
       "      <td>0.658014</td>\n",
       "      <td>0.772835</td>\n",
       "      <td>0.055492</td>\n",
       "      <td>1.000000</td>\n",
       "    </tr>\n",
       "  </tbody>\n",
       "</table>\n",
       "</div>"
      ],
      "text/plain": [
       "                       Year  Kilometers_Driven  Fuel_Type  Transmission  \\\n",
       "Year               1.000000          -0.169420  -0.104875      0.085311   \n",
       "Kilometers_Driven -0.169420           1.000000  -0.101483     -0.024155   \n",
       "Fuel_Type         -0.104875          -0.101483   1.000000     -0.147384   \n",
       "Transmission       0.085311          -0.024155  -0.147384      1.000000   \n",
       "Owner_Type        -0.386295           0.080399   0.038064     -0.002409   \n",
       "Mileage            0.285680          -0.060515  -0.060675     -0.368301   \n",
       "Engine            -0.068482           0.092999  -0.428744      0.501842   \n",
       "Power              0.014205           0.033443  -0.298723      0.644632   \n",
       "Seats              0.007762           0.083052  -0.300361     -0.074638   \n",
       "Price              0.299407          -0.008272  -0.317022      0.585586   \n",
       "\n",
       "                   Owner_Type   Mileage    Engine     Power     Seats  \\\n",
       "Year                -0.386295  0.285680 -0.068482  0.014205  0.007762   \n",
       "Kilometers_Driven    0.080399 -0.060515  0.092999  0.033443  0.083052   \n",
       "Fuel_Type            0.038064 -0.060675 -0.428744 -0.298723 -0.300361   \n",
       "Transmission        -0.002409 -0.368301  0.501842  0.644632 -0.074638   \n",
       "Owner_Type           1.000000 -0.148651  0.058568  0.025860  0.011472   \n",
       "Mileage             -0.148651  1.000000 -0.637325 -0.538816 -0.331564   \n",
       "Engine               0.058568 -0.637325  1.000000  0.866253  0.401082   \n",
       "Power                0.025860 -0.538816  0.866253  1.000000  0.101361   \n",
       "Seats                0.011472 -0.331564  0.401082  0.101361  1.000000   \n",
       "Price               -0.091179 -0.341661  0.658014  0.772835  0.055492   \n",
       "\n",
       "                      Price  \n",
       "Year               0.299407  \n",
       "Kilometers_Driven -0.008272  \n",
       "Fuel_Type         -0.317022  \n",
       "Transmission       0.585586  \n",
       "Owner_Type        -0.091179  \n",
       "Mileage           -0.341661  \n",
       "Engine             0.658014  \n",
       "Power              0.772835  \n",
       "Seats              0.055492  \n",
       "Price              1.000000  "
      ]
     },
     "execution_count": 27,
     "metadata": {},
     "output_type": "execute_result"
    }
   ],
   "source": [
    "# find correlation matrix\n",
    "\n",
    "corr_matrix = dataset.corr()\n",
    "corr_matrix"
   ]
  },
  {
   "cell_type": "code",
   "execution_count": 38,
   "metadata": {},
   "outputs": [
    {
     "data": {
      "image/png": "[encoded data removed]",
      "text/plain": [
       "<Figure size 1100x700 with 2 Axes>"
      ]
     },
     "metadata": {},
     "output_type": "display_data"
    }
   ],
   "source": [
    "#plotting the heatmap for correlation matrix\n",
    "\n",
    "# setting the dimensions of the plot\n",
    "fig, ax = plt.subplots(figsize=(11, 7))\n",
    "# drawing the plot\n",
    "sns.heatmap(dataset.corr(), annot=True)\n",
    "plt.show()"
   ]
  },
  {
   "cell_type": "code",
   "execution_count": null,
   "metadata": {},
   "outputs": [],
   "source": []
  }
 ],
 "metadata": {
  "kernelspec": {
   "display_name": "Python 3",
   "language": "python",
   "name": "python3"
  },
  "language_info": {
   "codemirror_mode": {
    "name": "ipython",
    "version": 3
   },
   "file_extension": ".py",
   "mimetype": "text/x-python",
   "name": "python",
   "nbconvert_exporter": "python",
   "pygments_lexer": "ipython3",
   "version": "3.11.0"
  },
  "orig_nbformat": 4
 },
 "nbformat": 4,
 "nbformat_minor": 2
}
